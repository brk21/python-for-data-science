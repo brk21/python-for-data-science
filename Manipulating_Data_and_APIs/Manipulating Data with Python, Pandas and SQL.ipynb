{
 "cells": [
  {
   "cell_type": "markdown",
   "metadata": {},
   "source": [
    "## Import Libraries You Need"
   ]
  },
  {
   "cell_type": "code",
   "execution_count": 2,
   "metadata": {},
   "outputs": [
    {
     "name": "stderr",
     "output_type": "stream",
     "text": [
      "/Users/brosskatz/anaconda3/envs/requests36/lib/python3.6/site-packages/requests/__init__.py:80: RequestsDependencyWarning: urllib3 (1.22) or chardet (2.3.0) doesn't match a supported version!\n",
      "  RequestsDependencyWarning)\n",
      "/Users/brosskatz/anaconda3/envs/requests36/lib/python3.6/site-packages/ggplot/utils.py:81: FutureWarning: pandas.tslib is deprecated and will be removed in a future version.\n",
      "You can access Timestamp as pandas.Timestamp\n",
      "  pd.tslib.Timestamp,\n",
      "/Users/brosskatz/anaconda3/envs/requests36/lib/python3.6/site-packages/ggplot/stats/smoothers.py:4: FutureWarning: The pandas.lib module is deprecated and will be removed in a future version. These are private functions and can be accessed from pandas._libs.lib instead\n",
      "  from pandas.lib import Timestamp\n"
     ]
    }
   ],
   "source": [
    "import requests\n",
    "import pandas as pd\n",
    "import numpy as np\n",
    "import datetime\n",
    "import pymysql\n",
    "from ggplot import *\n",
    "from configparser import ConfigParser\n",
    "import json\n",
    "from sqlalchemy import create_engine\n",
    "import matplotlib.pyplot as plt"
   ]
  },
  {
   "cell_type": "markdown",
   "metadata": {},
   "source": [
    "## Grab Credentials Securely"
   ]
  },
  {
   "cell_type": "markdown",
   "metadata": {},
   "source": [
    "### Using ConfigParser"
   ]
  },
  {
   "cell_type": "code",
   "execution_count": 7,
   "metadata": {
    "collapsed": true
   },
   "outputs": [],
   "source": [
    "config = ConfigParser()\n",
    "config_file = 'config.ini'\n",
    "config.read(config_file)\n",
    "\n",
    "user = config['rds']['user']\n",
    "password = config['rds']['pw']\n",
    "hostname = config['rds']['host']\n",
    "db_name = config['rds']['dbname']\n",
    "\n",
    "api_key = config['quandl']['api_key']"
   ]
  },
  {
   "cell_type": "markdown",
   "metadata": {},
   "source": [
    "## Connect to MySQL Database"
   ]
  },
  {
   "cell_type": "code",
   "execution_count": 5,
   "metadata": {
    "collapsed": true
   },
   "outputs": [],
   "source": [
    "connection = pymysql.connect(host=hostname,\n",
    "                             user=user,\n",
    "                             password=password,\n",
    "                             db=db_name)"
   ]
  },
  {
   "cell_type": "code",
   "execution_count": 6,
   "metadata": {
    "collapsed": true
   },
   "outputs": [],
   "source": [
    "cursor = connection.cursor()"
   ]
  },
  {
   "cell_type": "code",
   "execution_count": 42,
   "metadata": {
    "collapsed": true
   },
   "outputs": [],
   "source": [
    "engine = create_engine('mysql://'+user+':'+password+'@'+hostname+':3306/'+db_name)"
   ]
  },
  {
   "cell_type": "markdown",
   "metadata": {},
   "source": [
    "## Import CSV into Pandas DataFrame"
   ]
  },
  {
   "cell_type": "code",
   "execution_count": 1,
   "metadata": {},
   "outputs": [
    {
     "ename": "NameError",
     "evalue": "name 'pd' is not defined",
     "output_type": "error",
     "traceback": [
      "\u001b[0;31m---------------------------------------------------------------------------\u001b[0m",
      "\u001b[0;31mNameError\u001b[0m                                 Traceback (most recent call last)",
      "\u001b[0;32m<ipython-input-1-098da18fdd46>\u001b[0m in \u001b[0;36m<module>\u001b[0;34m()\u001b[0m\n\u001b[0;32m----> 1\u001b[0;31m \u001b[0mstock_tickers_df\u001b[0m \u001b[0;34m=\u001b[0m \u001b[0mpd\u001b[0m\u001b[0;34m.\u001b[0m\u001b[0mread_csv\u001b[0m\u001b[0;34m(\u001b[0m\u001b[0;34m'stock_ticker_list.csv'\u001b[0m\u001b[0;34m)\u001b[0m\u001b[0;34m\u001b[0m\u001b[0m\n\u001b[0m",
      "\u001b[0;31mNameError\u001b[0m: name 'pd' is not defined"
     ]
    }
   ],
   "source": [
    "stock_tickers_df = pd.read_csv('stock_ticker_list.csv')"
   ]
  },
  {
   "cell_type": "markdown",
   "metadata": {},
   "source": [
    "#### View First 10 Rows"
   ]
  },
  {
   "cell_type": "code",
   "execution_count": 10,
   "metadata": {},
   "outputs": [
    {
     "data": {
      "text/html": [
       "<div>\n",
       "<style scoped>\n",
       "    .dataframe tbody tr th:only-of-type {\n",
       "        vertical-align: middle;\n",
       "    }\n",
       "\n",
       "    .dataframe tbody tr th {\n",
       "        vertical-align: top;\n",
       "    }\n",
       "\n",
       "    .dataframe thead th {\n",
       "        text-align: right;\n",
       "    }\n",
       "</style>\n",
       "<table border=\"1\" class=\"dataframe\">\n",
       "  <thead>\n",
       "    <tr style=\"text-align: right;\">\n",
       "      <th></th>\n",
       "      <th>Symbol</th>\n",
       "      <th>Name</th>\n",
       "      <th>LastSale</th>\n",
       "      <th>MarketCap</th>\n",
       "      <th>IPOyear</th>\n",
       "      <th>Sector</th>\n",
       "      <th>industry</th>\n",
       "      <th>Summary Quote</th>\n",
       "    </tr>\n",
       "  </thead>\n",
       "  <tbody>\n",
       "    <tr>\n",
       "      <th>0</th>\n",
       "      <td>DDD</td>\n",
       "      <td>3D Systems Corporation</td>\n",
       "      <td>21.11</td>\n",
       "      <td>$2.4B</td>\n",
       "      <td>NaN</td>\n",
       "      <td>Technology</td>\n",
       "      <td>Computer Software: Prepackaged Software</td>\n",
       "      <td>http://www.nasdaq.com/symbol/ddd</td>\n",
       "    </tr>\n",
       "    <tr>\n",
       "      <th>1</th>\n",
       "      <td>MMM</td>\n",
       "      <td>3M Company</td>\n",
       "      <td>205.41</td>\n",
       "      <td>$122.68B</td>\n",
       "      <td>NaN</td>\n",
       "      <td>Health Care</td>\n",
       "      <td>Medical/Dental Instruments</td>\n",
       "      <td>http://www.nasdaq.com/symbol/mmm</td>\n",
       "    </tr>\n",
       "    <tr>\n",
       "      <th>2</th>\n",
       "      <td>WBAI</td>\n",
       "      <td>500.com Limited</td>\n",
       "      <td>9.51</td>\n",
       "      <td>$388.38M</td>\n",
       "      <td>2013.0</td>\n",
       "      <td>Consumer Services</td>\n",
       "      <td>Services-Misc. Amusement &amp; Recreation</td>\n",
       "      <td>http://www.nasdaq.com/symbol/wbai</td>\n",
       "    </tr>\n",
       "    <tr>\n",
       "      <th>3</th>\n",
       "      <td>WUBA</td>\n",
       "      <td>58.com Inc.</td>\n",
       "      <td>43.00</td>\n",
       "      <td>$6.25B</td>\n",
       "      <td>2013.0</td>\n",
       "      <td>Technology</td>\n",
       "      <td>Computer Software: Programming, Data Processing</td>\n",
       "      <td>http://www.nasdaq.com/symbol/wuba</td>\n",
       "    </tr>\n",
       "    <tr>\n",
       "      <th>4</th>\n",
       "      <td>AHC</td>\n",
       "      <td>A.H. Belo Corporation</td>\n",
       "      <td>5.35</td>\n",
       "      <td>$116.26M</td>\n",
       "      <td>NaN</td>\n",
       "      <td>Consumer Services</td>\n",
       "      <td>Newspapers/Magazines</td>\n",
       "      <td>http://www.nasdaq.com/symbol/ahc</td>\n",
       "    </tr>\n",
       "    <tr>\n",
       "      <th>5</th>\n",
       "      <td>ATEN</td>\n",
       "      <td>A10 Networks, Inc.</td>\n",
       "      <td>8.43</td>\n",
       "      <td>$584.51M</td>\n",
       "      <td>2014.0</td>\n",
       "      <td>Technology</td>\n",
       "      <td>Computer Communications Equipment</td>\n",
       "      <td>http://www.nasdaq.com/symbol/aten</td>\n",
       "    </tr>\n",
       "    <tr>\n",
       "      <th>6</th>\n",
       "      <td>AAC</td>\n",
       "      <td>AAC Holdings, Inc.</td>\n",
       "      <td>6.28</td>\n",
       "      <td>$151.17M</td>\n",
       "      <td>2014.0</td>\n",
       "      <td>Health Care</td>\n",
       "      <td>Medical Specialities</td>\n",
       "      <td>http://www.nasdaq.com/symbol/aac</td>\n",
       "    </tr>\n",
       "    <tr>\n",
       "      <th>7</th>\n",
       "      <td>AIR</td>\n",
       "      <td>AAR Corp.</td>\n",
       "      <td>35.04</td>\n",
       "      <td>$1.2B</td>\n",
       "      <td>NaN</td>\n",
       "      <td>Capital Goods</td>\n",
       "      <td>Aerospace</td>\n",
       "      <td>http://www.nasdaq.com/symbol/air</td>\n",
       "    </tr>\n",
       "    <tr>\n",
       "      <th>8</th>\n",
       "      <td>AAN</td>\n",
       "      <td>Aaron&amp;#39;s,  Inc.</td>\n",
       "      <td>38.41</td>\n",
       "      <td>$2.79B</td>\n",
       "      <td>NaN</td>\n",
       "      <td>Technology</td>\n",
       "      <td>Diversified Commercial Services</td>\n",
       "      <td>http://www.nasdaq.com/symbol/aan</td>\n",
       "    </tr>\n",
       "    <tr>\n",
       "      <th>9</th>\n",
       "      <td>ABB</td>\n",
       "      <td>ABB Ltd</td>\n",
       "      <td>25.54</td>\n",
       "      <td>$54.75B</td>\n",
       "      <td>NaN</td>\n",
       "      <td>Consumer Durables</td>\n",
       "      <td>Electrical Products</td>\n",
       "      <td>http://www.nasdaq.com/symbol/abb</td>\n",
       "    </tr>\n",
       "  </tbody>\n",
       "</table>\n",
       "</div>"
      ],
      "text/plain": [
       "  Symbol                    Name  LastSale MarketCap  IPOyear  \\\n",
       "0    DDD  3D Systems Corporation     21.11     $2.4B      NaN   \n",
       "1    MMM              3M Company    205.41  $122.68B      NaN   \n",
       "2   WBAI         500.com Limited      9.51  $388.38M   2013.0   \n",
       "3   WUBA             58.com Inc.     43.00    $6.25B   2013.0   \n",
       "4    AHC   A.H. Belo Corporation      5.35  $116.26M      NaN   \n",
       "5   ATEN      A10 Networks, Inc.      8.43  $584.51M   2014.0   \n",
       "6    AAC      AAC Holdings, Inc.      6.28  $151.17M   2014.0   \n",
       "7    AIR               AAR Corp.     35.04     $1.2B      NaN   \n",
       "8    AAN      Aaron&#39;s,  Inc.     38.41    $2.79B      NaN   \n",
       "9    ABB                 ABB Ltd     25.54   $54.75B      NaN   \n",
       "\n",
       "              Sector                                         industry  \\\n",
       "0         Technology          Computer Software: Prepackaged Software   \n",
       "1        Health Care                       Medical/Dental Instruments   \n",
       "2  Consumer Services            Services-Misc. Amusement & Recreation   \n",
       "3         Technology  Computer Software: Programming, Data Processing   \n",
       "4  Consumer Services                             Newspapers/Magazines   \n",
       "5         Technology                Computer Communications Equipment   \n",
       "6        Health Care                             Medical Specialities   \n",
       "7      Capital Goods                                        Aerospace   \n",
       "8         Technology                  Diversified Commercial Services   \n",
       "9  Consumer Durables                              Electrical Products   \n",
       "\n",
       "                       Summary Quote  \n",
       "0   http://www.nasdaq.com/symbol/ddd  \n",
       "1   http://www.nasdaq.com/symbol/mmm  \n",
       "2  http://www.nasdaq.com/symbol/wbai  \n",
       "3  http://www.nasdaq.com/symbol/wuba  \n",
       "4   http://www.nasdaq.com/symbol/ahc  \n",
       "5  http://www.nasdaq.com/symbol/aten  \n",
       "6   http://www.nasdaq.com/symbol/aac  \n",
       "7   http://www.nasdaq.com/symbol/air  \n",
       "8   http://www.nasdaq.com/symbol/aan  \n",
       "9   http://www.nasdaq.com/symbol/abb  "
      ]
     },
     "execution_count": 10,
     "metadata": {},
     "output_type": "execute_result"
    }
   ],
   "source": [
    "stock_tickers_df[:10]"
   ]
  },
  {
   "cell_type": "markdown",
   "metadata": {},
   "source": [
    "#### Look at only one column"
   ]
  },
  {
   "cell_type": "code",
   "execution_count": 11,
   "metadata": {},
   "outputs": [
    {
     "data": {
      "text/plain": [
       "0     DDD\n",
       "1     MMM\n",
       "2    WBAI\n",
       "3    WUBA\n",
       "4     AHC\n",
       "5    ATEN\n",
       "6     AAC\n",
       "7     AIR\n",
       "8     AAN\n",
       "9     ABB\n",
       "Name: Symbol, dtype: object"
      ]
     },
     "execution_count": 11,
     "metadata": {},
     "output_type": "execute_result"
    }
   ],
   "source": [
    "stock_tickers_df['Symbol'][:10]"
   ]
  },
  {
   "cell_type": "markdown",
   "metadata": {},
   "source": [
    "#### Convert DataFrame Records to Various Data Formats"
   ]
  },
  {
   "cell_type": "code",
   "execution_count": 12,
   "metadata": {},
   "outputs": [
    {
     "data": {
      "text/plain": [
       "['3D Systems Corporation',\n",
       " '3M Company',\n",
       " '500.com Limited',\n",
       " '58.com Inc.',\n",
       " 'A.H. Belo Corporation',\n",
       " 'A10 Networks, Inc.',\n",
       " 'AAC Holdings, Inc.',\n",
       " 'AAR Corp.',\n",
       " 'Aaron&#39;s,  Inc.',\n",
       " 'ABB Ltd']"
      ]
     },
     "execution_count": 12,
     "metadata": {},
     "output_type": "execute_result"
    }
   ],
   "source": [
    "stock_tickers_df['Name'].tolist()[:10]"
   ]
  },
  {
   "cell_type": "markdown",
   "metadata": {},
   "source": [
    "#### Convert DataFrame to JSON Records"
   ]
  },
  {
   "cell_type": "code",
   "execution_count": 35,
   "metadata": {},
   "outputs": [
    {
     "name": "stdout",
     "output_type": "stream",
     "text": [
      "[\n",
      "    {\n",
      "        \"Symbol\": \"DDD\",\n",
      "        \"Name\": \"3D Systems Corporation\",\n",
      "        \"LastSale\": 21.11,\n",
      "        \"MarketCap\": \"$2.4B\",\n",
      "        \"IPOyear\": null,\n",
      "        \"Sector\": \"Technology\",\n",
      "        \"industry\": \"Computer Software: Prepackaged Software\",\n",
      "        \"Summary Quote\": \"http://www.nasdaq.com/symbol/ddd\"\n",
      "    },\n",
      "    {\n",
      "        \"Symbol\": \"MMM\",\n",
      "        \"Name\": \"3M Company\",\n",
      "        \"LastSale\": 205.41,\n",
      "        \"MarketCap\": \"$122.68B\",\n",
      "        \"IPOyear\": null,\n",
      "        \"Sector\": \"Health Care\",\n",
      "        \"industry\": \"Medical/Dental Instruments\",\n",
      "        \"Summary Quote\": \"http://www.nasdaq.com/symbol/mmm\"\n",
      "    },\n",
      "    {\n",
      "        \"Symbol\": \"WBAI\",\n",
      "        \"Name\": \"500.com Limited\",\n",
      "        \"LastSale\": 9.51,\n",
      "        \"MarketCap\": \"$388.38M\",\n",
      "        \"IPOyear\": 2013.0,\n",
      "        \"Sector\": \"Consumer Services\",\n",
      "        \"industry\": \"Services-Misc. Amusement & Recreation\",\n",
      "        \"Summary Quote\": \"http://www.nasdaq.com/symbol/wbai\"\n",
      "    },\n",
      "    {\n",
      "        \"Symbol\": \"WUBA\",\n",
      "        \"Name\": \"58.com Inc.\",\n",
      "        \"LastSale\": 43.0,\n",
      "        \"MarketCap\": \"$6.25B\",\n",
      "        \"IPOyear\": 2013.0,\n",
      "        \"Sector\": \"Technology\",\n",
      "        \"industry\": \"Computer Software: Programming, Data Processing\",\n",
      "        \"Summary Quote\": \"http://www.nasdaq.com/symbol/wuba\"\n",
      "    },\n",
      "    {\n",
      "        \"Symbol\": \"AHC\",\n",
      "        \"Name\": \"A.H. Belo Corporation\",\n",
      "        \"LastSale\": 5.35,\n",
      "        \"MarketCap\": \"$116.26M\",\n",
      "        \"IPOyear\": null,\n",
      "        \"Sector\": \"Consumer Services\",\n",
      "        \"industry\": \"Newspapers/Magazines\",\n",
      "        \"Summary Quote\": \"http://www.nasdaq.com/symbol/ahc\"\n",
      "    }\n",
      "]\n"
     ]
    }
   ],
   "source": [
    "print(\n",
    "    json.dumps(\n",
    "        json.loads(\n",
    "            stock_tickers_df[:5].to_json(orient='records')\n",
    "        ),indent=4)\n",
    ")"
   ]
  },
  {
   "cell_type": "markdown",
   "metadata": {},
   "source": [
    "## Push DataFrame to SQL (easily, not efficiently)"
   ]
  },
  {
   "cell_type": "code",
   "execution_count": 43,
   "metadata": {
    "collapsed": true
   },
   "outputs": [],
   "source": [
    "stock_tickers_df.to_sql(name='stock_tickers',con=engine,if_exists='replace')"
   ]
  },
  {
   "cell_type": "code",
   "execution_count": 45,
   "metadata": {
    "collapsed": true
   },
   "outputs": [],
   "source": [
    "ticker_df_short = pd.read_sql_query(\"SELECT * FROM stock_tickers LIMIT 100\",connection)"
   ]
  },
  {
   "cell_type": "code",
   "execution_count": 46,
   "metadata": {},
   "outputs": [
    {
     "data": {
      "text/html": [
       "<div>\n",
       "<style scoped>\n",
       "    .dataframe tbody tr th:only-of-type {\n",
       "        vertical-align: middle;\n",
       "    }\n",
       "\n",
       "    .dataframe tbody tr th {\n",
       "        vertical-align: top;\n",
       "    }\n",
       "\n",
       "    .dataframe thead th {\n",
       "        text-align: right;\n",
       "    }\n",
       "</style>\n",
       "<table border=\"1\" class=\"dataframe\">\n",
       "  <thead>\n",
       "    <tr style=\"text-align: right;\">\n",
       "      <th></th>\n",
       "      <th>index</th>\n",
       "      <th>Symbol</th>\n",
       "      <th>Name</th>\n",
       "      <th>LastSale</th>\n",
       "      <th>MarketCap</th>\n",
       "      <th>IPOyear</th>\n",
       "      <th>Sector</th>\n",
       "      <th>industry</th>\n",
       "      <th>Summary Quote</th>\n",
       "    </tr>\n",
       "  </thead>\n",
       "  <tbody>\n",
       "    <tr>\n",
       "      <th>0</th>\n",
       "      <td>0</td>\n",
       "      <td>DDD</td>\n",
       "      <td>3D Systems Corporation</td>\n",
       "      <td>21.11</td>\n",
       "      <td>$2.4B</td>\n",
       "      <td>NaN</td>\n",
       "      <td>Technology</td>\n",
       "      <td>Computer Software: Prepackaged Software</td>\n",
       "      <td>http://www.nasdaq.com/symbol/ddd</td>\n",
       "    </tr>\n",
       "    <tr>\n",
       "      <th>1</th>\n",
       "      <td>1</td>\n",
       "      <td>MMM</td>\n",
       "      <td>3M Company</td>\n",
       "      <td>205.41</td>\n",
       "      <td>$122.68B</td>\n",
       "      <td>NaN</td>\n",
       "      <td>Health Care</td>\n",
       "      <td>Medical/Dental Instruments</td>\n",
       "      <td>http://www.nasdaq.com/symbol/mmm</td>\n",
       "    </tr>\n",
       "    <tr>\n",
       "      <th>2</th>\n",
       "      <td>2</td>\n",
       "      <td>WBAI</td>\n",
       "      <td>500.com Limited</td>\n",
       "      <td>9.51</td>\n",
       "      <td>$388.38M</td>\n",
       "      <td>2013.0</td>\n",
       "      <td>Consumer Services</td>\n",
       "      <td>Services-Misc. Amusement &amp; Recreation</td>\n",
       "      <td>http://www.nasdaq.com/symbol/wbai</td>\n",
       "    </tr>\n",
       "    <tr>\n",
       "      <th>3</th>\n",
       "      <td>3</td>\n",
       "      <td>WUBA</td>\n",
       "      <td>58.com Inc.</td>\n",
       "      <td>43.00</td>\n",
       "      <td>$6.25B</td>\n",
       "      <td>2013.0</td>\n",
       "      <td>Technology</td>\n",
       "      <td>Computer Software: Programming, Data Processing</td>\n",
       "      <td>http://www.nasdaq.com/symbol/wuba</td>\n",
       "    </tr>\n",
       "    <tr>\n",
       "      <th>4</th>\n",
       "      <td>4</td>\n",
       "      <td>AHC</td>\n",
       "      <td>A.H. Belo Corporation</td>\n",
       "      <td>5.35</td>\n",
       "      <td>$116.26M</td>\n",
       "      <td>NaN</td>\n",
       "      <td>Consumer Services</td>\n",
       "      <td>Newspapers/Magazines</td>\n",
       "      <td>http://www.nasdaq.com/symbol/ahc</td>\n",
       "    </tr>\n",
       "    <tr>\n",
       "      <th>5</th>\n",
       "      <td>5</td>\n",
       "      <td>ATEN</td>\n",
       "      <td>A10 Networks, Inc.</td>\n",
       "      <td>8.43</td>\n",
       "      <td>$584.51M</td>\n",
       "      <td>2014.0</td>\n",
       "      <td>Technology</td>\n",
       "      <td>Computer Communications Equipment</td>\n",
       "      <td>http://www.nasdaq.com/symbol/aten</td>\n",
       "    </tr>\n",
       "    <tr>\n",
       "      <th>6</th>\n",
       "      <td>6</td>\n",
       "      <td>AAC</td>\n",
       "      <td>AAC Holdings, Inc.</td>\n",
       "      <td>6.28</td>\n",
       "      <td>$151.17M</td>\n",
       "      <td>2014.0</td>\n",
       "      <td>Health Care</td>\n",
       "      <td>Medical Specialities</td>\n",
       "      <td>http://www.nasdaq.com/symbol/aac</td>\n",
       "    </tr>\n",
       "    <tr>\n",
       "      <th>7</th>\n",
       "      <td>7</td>\n",
       "      <td>AIR</td>\n",
       "      <td>AAR Corp.</td>\n",
       "      <td>35.04</td>\n",
       "      <td>$1.2B</td>\n",
       "      <td>NaN</td>\n",
       "      <td>Capital Goods</td>\n",
       "      <td>Aerospace</td>\n",
       "      <td>http://www.nasdaq.com/symbol/air</td>\n",
       "    </tr>\n",
       "    <tr>\n",
       "      <th>8</th>\n",
       "      <td>8</td>\n",
       "      <td>AAN</td>\n",
       "      <td>Aaron&amp;#39;s,  Inc.</td>\n",
       "      <td>38.41</td>\n",
       "      <td>$2.79B</td>\n",
       "      <td>NaN</td>\n",
       "      <td>Technology</td>\n",
       "      <td>Diversified Commercial Services</td>\n",
       "      <td>http://www.nasdaq.com/symbol/aan</td>\n",
       "    </tr>\n",
       "    <tr>\n",
       "      <th>9</th>\n",
       "      <td>9</td>\n",
       "      <td>ABB</td>\n",
       "      <td>ABB Ltd</td>\n",
       "      <td>25.54</td>\n",
       "      <td>$54.75B</td>\n",
       "      <td>NaN</td>\n",
       "      <td>Consumer Durables</td>\n",
       "      <td>Electrical Products</td>\n",
       "      <td>http://www.nasdaq.com/symbol/abb</td>\n",
       "    </tr>\n",
       "  </tbody>\n",
       "</table>\n",
       "</div>"
      ],
      "text/plain": [
       "   index Symbol                    Name  LastSale MarketCap  IPOyear  \\\n",
       "0      0    DDD  3D Systems Corporation     21.11     $2.4B      NaN   \n",
       "1      1    MMM              3M Company    205.41  $122.68B      NaN   \n",
       "2      2   WBAI         500.com Limited      9.51  $388.38M   2013.0   \n",
       "3      3   WUBA             58.com Inc.     43.00    $6.25B   2013.0   \n",
       "4      4    AHC   A.H. Belo Corporation      5.35  $116.26M      NaN   \n",
       "5      5   ATEN      A10 Networks, Inc.      8.43  $584.51M   2014.0   \n",
       "6      6    AAC      AAC Holdings, Inc.      6.28  $151.17M   2014.0   \n",
       "7      7    AIR               AAR Corp.     35.04     $1.2B      NaN   \n",
       "8      8    AAN      Aaron&#39;s,  Inc.     38.41    $2.79B      NaN   \n",
       "9      9    ABB                 ABB Ltd     25.54   $54.75B      NaN   \n",
       "\n",
       "              Sector                                         industry  \\\n",
       "0         Technology          Computer Software: Prepackaged Software   \n",
       "1        Health Care                       Medical/Dental Instruments   \n",
       "2  Consumer Services            Services-Misc. Amusement & Recreation   \n",
       "3         Technology  Computer Software: Programming, Data Processing   \n",
       "4  Consumer Services                             Newspapers/Magazines   \n",
       "5         Technology                Computer Communications Equipment   \n",
       "6        Health Care                             Medical Specialities   \n",
       "7      Capital Goods                                        Aerospace   \n",
       "8         Technology                  Diversified Commercial Services   \n",
       "9  Consumer Durables                              Electrical Products   \n",
       "\n",
       "                       Summary Quote  \n",
       "0   http://www.nasdaq.com/symbol/ddd  \n",
       "1   http://www.nasdaq.com/symbol/mmm  \n",
       "2  http://www.nasdaq.com/symbol/wbai  \n",
       "3  http://www.nasdaq.com/symbol/wuba  \n",
       "4   http://www.nasdaq.com/symbol/ahc  \n",
       "5  http://www.nasdaq.com/symbol/aten  \n",
       "6   http://www.nasdaq.com/symbol/aac  \n",
       "7   http://www.nasdaq.com/symbol/air  \n",
       "8   http://www.nasdaq.com/symbol/aan  \n",
       "9   http://www.nasdaq.com/symbol/abb  "
      ]
     },
     "execution_count": 46,
     "metadata": {},
     "output_type": "execute_result"
    }
   ],
   "source": [
    "ticker_df_short[:10]"
   ]
  },
  {
   "cell_type": "markdown",
   "metadata": {},
   "source": [
    "## Testing an API (URL)"
   ]
  },
  {
   "cell_type": "code",
   "execution_count": 82,
   "metadata": {},
   "outputs": [
    {
     "name": "stdout",
     "output_type": "stream",
     "text": [
      "200\n"
     ]
    }
   ],
   "source": [
    "ticker = 'DDD'\n",
    "base_url = 'https://www.quandl.com/api/v3/datasets/WIKI/' + ticker + '/data.json?api_key=' + api_key\n",
    "response = requests.get(base_url)\n",
    "response_json = response.json()\n",
    "print(response.status_code)"
   ]
  },
  {
   "cell_type": "code",
   "execution_count": 49,
   "metadata": {
    "collapsed": true
   },
   "outputs": [],
   "source": [
    "# response_json"
   ]
  },
  {
   "cell_type": "markdown",
   "metadata": {},
   "source": [
    "## Working with JSON Data"
   ]
  },
  {
   "cell_type": "markdown",
   "metadata": {},
   "source": [
    "#### Explore the Keys"
   ]
  },
  {
   "cell_type": "code",
   "execution_count": 50,
   "metadata": {},
   "outputs": [
    {
     "data": {
      "text/plain": [
       "dict_keys(['dataset_data'])"
      ]
     },
     "execution_count": 50,
     "metadata": {},
     "output_type": "execute_result"
    }
   ],
   "source": [
    "response_json.keys()"
   ]
  },
  {
   "cell_type": "code",
   "execution_count": 51,
   "metadata": {},
   "outputs": [
    {
     "data": {
      "text/plain": [
       "dict_keys(['limit', 'transform', 'column_index', 'column_names', 'start_date', 'end_date', 'frequency', 'data', 'collapse', 'order'])"
      ]
     },
     "execution_count": 51,
     "metadata": {},
     "output_type": "execute_result"
    }
   ],
   "source": [
    "response_json['dataset_data'].keys()"
   ]
  },
  {
   "cell_type": "markdown",
   "metadata": {},
   "source": [
    "#### Grab the Keys You Need"
   ]
  },
  {
   "cell_type": "code",
   "execution_count": 53,
   "metadata": {},
   "outputs": [
    {
     "data": {
      "text/plain": [
       "['Date',\n",
       " 'Open',\n",
       " 'High',\n",
       " 'Low',\n",
       " 'Close',\n",
       " 'Volume',\n",
       " 'Ex-Dividend',\n",
       " 'Split Ratio',\n",
       " 'Adj. Open',\n",
       " 'Adj. High',\n",
       " 'Adj. Low',\n",
       " 'Adj. Close',\n",
       " 'Adj. Volume']"
      ]
     },
     "execution_count": 53,
     "metadata": {},
     "output_type": "execute_result"
    }
   ],
   "source": [
    "headers = response_json['dataset_data']['column_names']\n",
    "headers"
   ]
  },
  {
   "cell_type": "code",
   "execution_count": 54,
   "metadata": {},
   "outputs": [
    {
     "data": {
      "text/plain": [
       "[['2018-03-27',\n",
       "  11.57,\n",
       "  11.78,\n",
       "  11.35,\n",
       "  11.51,\n",
       "  1369681.0,\n",
       "  0.0,\n",
       "  1.0,\n",
       "  11.57,\n",
       "  11.78,\n",
       "  11.35,\n",
       "  11.51,\n",
       "  1369681.0],\n",
       " ['2018-03-26',\n",
       "  11.66,\n",
       "  11.82,\n",
       "  11.29,\n",
       "  11.57,\n",
       "  1731235.0,\n",
       "  0.0,\n",
       "  1.0,\n",
       "  11.66,\n",
       "  11.82,\n",
       "  11.29,\n",
       "  11.57,\n",
       "  1731235.0],\n",
       " ['2018-03-23',\n",
       "  11.62,\n",
       "  11.8,\n",
       "  11.31,\n",
       "  11.43,\n",
       "  2001250.0,\n",
       "  0.0,\n",
       "  1.0,\n",
       "  11.62,\n",
       "  11.8,\n",
       "  11.31,\n",
       "  11.43,\n",
       "  2001250.0]]"
      ]
     },
     "execution_count": 54,
     "metadata": {},
     "output_type": "execute_result"
    }
   ],
   "source": [
    "data = response_json['dataset_data']['data']\n",
    "data[:3]"
   ]
  },
  {
   "cell_type": "markdown",
   "metadata": {},
   "source": [
    "### Convert to the Data Type You Want to Use (We Like DataFrames)"
   ]
  },
  {
   "cell_type": "code",
   "execution_count": 100,
   "metadata": {
    "collapsed": true
   },
   "outputs": [],
   "source": [
    "stock_timeline_df = pd.DataFrame(data, columns=headers)\n",
    "stock_timeline_df['Ticker'] = 'DDD'"
   ]
  },
  {
   "cell_type": "code",
   "execution_count": 101,
   "metadata": {},
   "outputs": [
    {
     "data": {
      "text/html": [
       "<div>\n",
       "<style scoped>\n",
       "    .dataframe tbody tr th:only-of-type {\n",
       "        vertical-align: middle;\n",
       "    }\n",
       "\n",
       "    .dataframe tbody tr th {\n",
       "        vertical-align: top;\n",
       "    }\n",
       "\n",
       "    .dataframe thead th {\n",
       "        text-align: right;\n",
       "    }\n",
       "</style>\n",
       "<table border=\"1\" class=\"dataframe\">\n",
       "  <thead>\n",
       "    <tr style=\"text-align: right;\">\n",
       "      <th></th>\n",
       "      <th>Date</th>\n",
       "      <th>Open</th>\n",
       "      <th>High</th>\n",
       "      <th>Low</th>\n",
       "      <th>Close</th>\n",
       "      <th>Volume</th>\n",
       "      <th>Ex-Dividend</th>\n",
       "      <th>Split Ratio</th>\n",
       "      <th>Adj. Open</th>\n",
       "      <th>Adj. High</th>\n",
       "      <th>Adj. Low</th>\n",
       "      <th>Adj. Close</th>\n",
       "      <th>Adj. Volume</th>\n",
       "      <th>Ticker</th>\n",
       "    </tr>\n",
       "  </thead>\n",
       "  <tbody>\n",
       "    <tr>\n",
       "      <th>0</th>\n",
       "      <td>2018-03-27</td>\n",
       "      <td>11.57</td>\n",
       "      <td>11.7800</td>\n",
       "      <td>11.35</td>\n",
       "      <td>11.51</td>\n",
       "      <td>1369681.0</td>\n",
       "      <td>0.0</td>\n",
       "      <td>1.0</td>\n",
       "      <td>11.57</td>\n",
       "      <td>11.7800</td>\n",
       "      <td>11.35</td>\n",
       "      <td>11.51</td>\n",
       "      <td>1369681.0</td>\n",
       "      <td>DDD</td>\n",
       "    </tr>\n",
       "    <tr>\n",
       "      <th>1</th>\n",
       "      <td>2018-03-26</td>\n",
       "      <td>11.66</td>\n",
       "      <td>11.8200</td>\n",
       "      <td>11.29</td>\n",
       "      <td>11.57</td>\n",
       "      <td>1731235.0</td>\n",
       "      <td>0.0</td>\n",
       "      <td>1.0</td>\n",
       "      <td>11.66</td>\n",
       "      <td>11.8200</td>\n",
       "      <td>11.29</td>\n",
       "      <td>11.57</td>\n",
       "      <td>1731235.0</td>\n",
       "      <td>DDD</td>\n",
       "    </tr>\n",
       "    <tr>\n",
       "      <th>2</th>\n",
       "      <td>2018-03-23</td>\n",
       "      <td>11.62</td>\n",
       "      <td>11.8000</td>\n",
       "      <td>11.31</td>\n",
       "      <td>11.43</td>\n",
       "      <td>2001250.0</td>\n",
       "      <td>0.0</td>\n",
       "      <td>1.0</td>\n",
       "      <td>11.62</td>\n",
       "      <td>11.8000</td>\n",
       "      <td>11.31</td>\n",
       "      <td>11.43</td>\n",
       "      <td>2001250.0</td>\n",
       "      <td>DDD</td>\n",
       "    </tr>\n",
       "    <tr>\n",
       "      <th>3</th>\n",
       "      <td>2018-03-22</td>\n",
       "      <td>11.80</td>\n",
       "      <td>12.0100</td>\n",
       "      <td>11.61</td>\n",
       "      <td>11.65</td>\n",
       "      <td>1544751.0</td>\n",
       "      <td>0.0</td>\n",
       "      <td>1.0</td>\n",
       "      <td>11.80</td>\n",
       "      <td>12.0100</td>\n",
       "      <td>11.61</td>\n",
       "      <td>11.65</td>\n",
       "      <td>1544751.0</td>\n",
       "      <td>DDD</td>\n",
       "    </tr>\n",
       "    <tr>\n",
       "      <th>4</th>\n",
       "      <td>2018-03-21</td>\n",
       "      <td>11.99</td>\n",
       "      <td>12.2500</td>\n",
       "      <td>11.86</td>\n",
       "      <td>12.00</td>\n",
       "      <td>1814216.0</td>\n",
       "      <td>0.0</td>\n",
       "      <td>1.0</td>\n",
       "      <td>11.99</td>\n",
       "      <td>12.2500</td>\n",
       "      <td>11.86</td>\n",
       "      <td>12.00</td>\n",
       "      <td>1814216.0</td>\n",
       "      <td>DDD</td>\n",
       "    </tr>\n",
       "    <tr>\n",
       "      <th>5</th>\n",
       "      <td>2018-03-20</td>\n",
       "      <td>12.03</td>\n",
       "      <td>12.2600</td>\n",
       "      <td>11.83</td>\n",
       "      <td>12.05</td>\n",
       "      <td>1271050.0</td>\n",
       "      <td>0.0</td>\n",
       "      <td>1.0</td>\n",
       "      <td>12.03</td>\n",
       "      <td>12.2600</td>\n",
       "      <td>11.83</td>\n",
       "      <td>12.05</td>\n",
       "      <td>1271050.0</td>\n",
       "      <td>DDD</td>\n",
       "    </tr>\n",
       "    <tr>\n",
       "      <th>6</th>\n",
       "      <td>2018-03-19</td>\n",
       "      <td>12.28</td>\n",
       "      <td>12.5700</td>\n",
       "      <td>11.79</td>\n",
       "      <td>12.06</td>\n",
       "      <td>2692517.0</td>\n",
       "      <td>0.0</td>\n",
       "      <td>1.0</td>\n",
       "      <td>12.28</td>\n",
       "      <td>12.5700</td>\n",
       "      <td>11.79</td>\n",
       "      <td>12.06</td>\n",
       "      <td>2692517.0</td>\n",
       "      <td>DDD</td>\n",
       "    </tr>\n",
       "    <tr>\n",
       "      <th>7</th>\n",
       "      <td>2018-03-16</td>\n",
       "      <td>12.98</td>\n",
       "      <td>13.1000</td>\n",
       "      <td>12.40</td>\n",
       "      <td>12.40</td>\n",
       "      <td>4533798.0</td>\n",
       "      <td>0.0</td>\n",
       "      <td>1.0</td>\n",
       "      <td>12.98</td>\n",
       "      <td>13.1000</td>\n",
       "      <td>12.40</td>\n",
       "      <td>12.40</td>\n",
       "      <td>4533798.0</td>\n",
       "      <td>DDD</td>\n",
       "    </tr>\n",
       "    <tr>\n",
       "      <th>8</th>\n",
       "      <td>2018-03-15</td>\n",
       "      <td>13.00</td>\n",
       "      <td>13.6999</td>\n",
       "      <td>12.75</td>\n",
       "      <td>12.86</td>\n",
       "      <td>8124538.0</td>\n",
       "      <td>0.0</td>\n",
       "      <td>1.0</td>\n",
       "      <td>13.00</td>\n",
       "      <td>13.6999</td>\n",
       "      <td>12.75</td>\n",
       "      <td>12.86</td>\n",
       "      <td>8124538.0</td>\n",
       "      <td>DDD</td>\n",
       "    </tr>\n",
       "    <tr>\n",
       "      <th>9</th>\n",
       "      <td>2018-03-14</td>\n",
       "      <td>12.03</td>\n",
       "      <td>12.5300</td>\n",
       "      <td>11.94</td>\n",
       "      <td>12.15</td>\n",
       "      <td>3855635.0</td>\n",
       "      <td>0.0</td>\n",
       "      <td>1.0</td>\n",
       "      <td>12.03</td>\n",
       "      <td>12.5300</td>\n",
       "      <td>11.94</td>\n",
       "      <td>12.15</td>\n",
       "      <td>3855635.0</td>\n",
       "      <td>DDD</td>\n",
       "    </tr>\n",
       "  </tbody>\n",
       "</table>\n",
       "</div>"
      ],
      "text/plain": [
       "         Date   Open     High    Low  Close     Volume  Ex-Dividend  \\\n",
       "0  2018-03-27  11.57  11.7800  11.35  11.51  1369681.0          0.0   \n",
       "1  2018-03-26  11.66  11.8200  11.29  11.57  1731235.0          0.0   \n",
       "2  2018-03-23  11.62  11.8000  11.31  11.43  2001250.0          0.0   \n",
       "3  2018-03-22  11.80  12.0100  11.61  11.65  1544751.0          0.0   \n",
       "4  2018-03-21  11.99  12.2500  11.86  12.00  1814216.0          0.0   \n",
       "5  2018-03-20  12.03  12.2600  11.83  12.05  1271050.0          0.0   \n",
       "6  2018-03-19  12.28  12.5700  11.79  12.06  2692517.0          0.0   \n",
       "7  2018-03-16  12.98  13.1000  12.40  12.40  4533798.0          0.0   \n",
       "8  2018-03-15  13.00  13.6999  12.75  12.86  8124538.0          0.0   \n",
       "9  2018-03-14  12.03  12.5300  11.94  12.15  3855635.0          0.0   \n",
       "\n",
       "   Split Ratio  Adj. Open  Adj. High  Adj. Low  Adj. Close  Adj. Volume Ticker  \n",
       "0          1.0      11.57    11.7800     11.35       11.51    1369681.0    DDD  \n",
       "1          1.0      11.66    11.8200     11.29       11.57    1731235.0    DDD  \n",
       "2          1.0      11.62    11.8000     11.31       11.43    2001250.0    DDD  \n",
       "3          1.0      11.80    12.0100     11.61       11.65    1544751.0    DDD  \n",
       "4          1.0      11.99    12.2500     11.86       12.00    1814216.0    DDD  \n",
       "5          1.0      12.03    12.2600     11.83       12.05    1271050.0    DDD  \n",
       "6          1.0      12.28    12.5700     11.79       12.06    2692517.0    DDD  \n",
       "7          1.0      12.98    13.1000     12.40       12.40    4533798.0    DDD  \n",
       "8          1.0      13.00    13.6999     12.75       12.86    8124538.0    DDD  \n",
       "9          1.0      12.03    12.5300     11.94       12.15    3855635.0    DDD  "
      ]
     },
     "execution_count": 101,
     "metadata": {},
     "output_type": "execute_result"
    }
   ],
   "source": [
    "stock_timeline_df[:10]"
   ]
  },
  {
   "cell_type": "markdown",
   "metadata": {},
   "source": [
    "### Quickly Explore/Visualize Your Data"
   ]
  },
  {
   "cell_type": "code",
   "execution_count": 102,
   "metadata": {
    "collapsed": true
   },
   "outputs": [],
   "source": [
    "stock_timeline_df['Date'] = pd.to_datetime(stock_timeline_df['Date'])\n",
    "stock_timeline_df.index = stock_timeline_df['Date']"
   ]
  },
  {
   "cell_type": "code",
   "execution_count": 103,
   "metadata": {},
   "outputs": [
    {
     "data": {
      "text/plain": [
       "<matplotlib.axes._subplots.AxesSubplot at 0x1216ea518>"
      ]
     },
     "execution_count": 103,
     "metadata": {},
     "output_type": "execute_result"
    },
    {
     "data": {
      "text/plain": [
       "<Figure size 432x288 with 0 Axes>"
      ]
     },
     "metadata": {},
     "output_type": "display_data"
    },
    {
     "data": {
      "image/png": "[encoded data removed]",
      "text/plain": [
       "<Figure size 1440x720 with 1 Axes>"
      ]
     },
     "metadata": {},
     "output_type": "display_data"
    }
   ],
   "source": [
    "plt.figure()\n",
    "stock_timeline_df[['Close']].plot(figsize=(20,10))"
   ]
  },
  {
   "cell_type": "markdown",
   "metadata": {},
   "source": [
    "### Push Data to the Database"
   ]
  },
  {
   "cell_type": "code",
   "execution_count": 84,
   "metadata": {
    "collapsed": true
   },
   "outputs": [],
   "source": [
    "stock_timeline_df.to_sql('stocks_daily',con=engine,chunksize=1000,if_exists='append',index=False)"
   ]
  },
  {
   "cell_type": "code",
   "execution_count": 87,
   "metadata": {
    "collapsed": true
   },
   "outputs": [],
   "source": [
    "connection.commit()"
   ]
  },
  {
   "cell_type": "code",
   "execution_count": 89,
   "metadata": {
    "collapsed": true
   },
   "outputs": [],
   "source": [
    "cursor.execute(\"SELECT * FROM stocks_daily LIMIT 100\")\n",
    "results = cursor.fetchall()\n"
   ]
  },
  {
   "cell_type": "code",
   "execution_count": 118,
   "metadata": {
    "collapsed": true
   },
   "outputs": [],
   "source": [
    "cursor.execute(\"TRUNCATE TABLE stocks_daily\")\n",
    "connection.commit()"
   ]
  },
  {
   "cell_type": "markdown",
   "metadata": {},
   "source": [
    "### Quick Detour: Working with Tuples"
   ]
  },
  {
   "cell_type": "code",
   "execution_count": 92,
   "metadata": {},
   "outputs": [
    {
     "name": "stdout",
     "output_type": "stream",
     "text": [
      "<class 'tuple'>\n"
     ]
    },
    {
     "data": {
      "text/plain": [
       "(datetime.datetime(2018, 3, 27, 0, 0),\n",
       " 11.57,\n",
       " 11.78,\n",
       " 11.35,\n",
       " 11.51,\n",
       " 1369681.0,\n",
       " 0.0,\n",
       " 1.0,\n",
       " 11.57,\n",
       " 11.78,\n",
       " 11.35,\n",
       " 11.51,\n",
       " 1369681.0)"
      ]
     },
     "execution_count": 92,
     "metadata": {},
     "output_type": "execute_result"
    }
   ],
   "source": [
    "print(type(results[0]))\n",
    "results[0]"
   ]
  },
  {
   "cell_type": "code",
   "execution_count": 93,
   "metadata": {},
   "outputs": [
    {
     "data": {
      "text/plain": [
       "datetime.datetime(2018, 3, 27, 0, 0)"
      ]
     },
     "execution_count": 93,
     "metadata": {},
     "output_type": "execute_result"
    }
   ],
   "source": [
    "results[0][0]"
   ]
  },
  {
   "cell_type": "markdown",
   "metadata": {},
   "source": [
    "### Quick Detour: Working with DateTimes"
   ]
  },
  {
   "cell_type": "code",
   "execution_count": 95,
   "metadata": {},
   "outputs": [
    {
     "data": {
      "text/plain": [
       "'2018-03-27 00:00:00'"
      ]
     },
     "execution_count": 95,
     "metadata": {},
     "output_type": "execute_result"
    }
   ],
   "source": [
    "results[0][0].strftime('%Y-%m-%d %H:%M:%S')"
   ]
  },
  {
   "cell_type": "markdown",
   "metadata": {},
   "source": [
    "## Looping over Lists to Query an API"
   ]
  },
  {
   "cell_type": "code",
   "execution_count": 104,
   "metadata": {
    "collapsed": true
   },
   "outputs": [],
   "source": [
    "ticker_list = stock_tickers_df['Symbol'].tolist()"
   ]
  },
  {
   "cell_type": "code",
   "execution_count": 105,
   "metadata": {},
   "outputs": [
    {
     "data": {
      "text/plain": [
       "['DDD', 'MMM', 'WBAI', 'WUBA', 'AHC']"
      ]
     },
     "execution_count": 105,
     "metadata": {},
     "output_type": "execute_result"
    }
   ],
   "source": [
    "ticker_list[:5]"
   ]
  },
  {
   "cell_type": "code",
   "execution_count": 119,
   "metadata": {},
   "outputs": [
    {
     "name": "stdout",
     "output_type": "stream",
     "text": [
      "Ticker uploaded: DDD\n",
      "Ticker uploaded: MMM\n",
      "WBAI\n",
      "{'quandl_error': {'code': 'QECx02', 'message': 'You have submitted an incorrect Quandl code. Please check your Quandl codes and try again.'}}\n",
      "'dataset_data'\n",
      "WUBA\n",
      "{'quandl_error': {'code': 'QECx02', 'message': 'You have submitted an incorrect Quandl code. Please check your Quandl codes and try again.'}}\n",
      "'dataset_data'\n",
      "Ticker uploaded: AHC\n",
      "Ticker uploaded: ATEN\n",
      "AAC\n",
      "{'quandl_error': {'code': 'QECx02', 'message': 'You have submitted an incorrect Quandl code. Please check your Quandl codes and try again.'}}\n",
      "'dataset_data'\n",
      "Ticker uploaded: AIR\n",
      "Ticker uploaded: AAN\n",
      "ABB\n",
      "{'quandl_error': {'code': 'QECx02', 'message': 'You have submitted an incorrect Quandl code. Please check your Quandl codes and try again.'}}\n",
      "'dataset_data'\n"
     ]
    }
   ],
   "source": [
    "for ticker in ticker_list[:10]:\n",
    "    base_url = 'https://www.quandl.com/api/v3/datasets/WIKI/' + ticker + '/data.json?api_key=' + api_key\n",
    "    try:\n",
    "        response = requests.get(base_url)\n",
    "        response_json = response.json()\n",
    "        headers = response_json['dataset_data']['column_names']\n",
    "        data = response_json['dataset_data']['data']\n",
    "        stock_timeline_df = pd.DataFrame(data, columns=headers)\n",
    "        stock_timeline_df['Date'] = pd.to_datetime(stock_timeline_df['Date'])\n",
    "        stock_timeline_df['Ticker'] = ticker\n",
    "        stock_timeline_df.to_sql('stocks_daily',con=engine,chunksize=1000,if_exists='append',index=False)\n",
    "        print(\"Ticker uploaded:\",ticker)\n",
    "    except Exception as ex:\n",
    "        print(ticker)\n",
    "        print(response_json)\n",
    "        print(ex)"
   ]
  },
  {
   "cell_type": "markdown",
   "metadata": {},
   "source": [
    "### Check to see that data looks right"
   ]
  },
  {
   "cell_type": "code",
   "execution_count": 121,
   "metadata": {},
   "outputs": [
    {
     "data": {
      "text/html": [
       "<div>\n",
       "<style scoped>\n",
       "    .dataframe tbody tr th:only-of-type {\n",
       "        vertical-align: middle;\n",
       "    }\n",
       "\n",
       "    .dataframe tbody tr th {\n",
       "        vertical-align: top;\n",
       "    }\n",
       "\n",
       "    .dataframe thead th {\n",
       "        text-align: right;\n",
       "    }\n",
       "</style>\n",
       "<table border=\"1\" class=\"dataframe\">\n",
       "  <thead>\n",
       "    <tr style=\"text-align: right;\">\n",
       "      <th></th>\n",
       "      <th>Date</th>\n",
       "      <th>Open</th>\n",
       "      <th>High</th>\n",
       "      <th>Low</th>\n",
       "      <th>Close</th>\n",
       "      <th>Volume</th>\n",
       "      <th>Ex-Dividend</th>\n",
       "      <th>Split Ratio</th>\n",
       "      <th>Adj. Open</th>\n",
       "      <th>Adj. High</th>\n",
       "      <th>Adj. Low</th>\n",
       "      <th>Adj. Close</th>\n",
       "      <th>Adj. Volume</th>\n",
       "      <th>Ticker</th>\n",
       "    </tr>\n",
       "  </thead>\n",
       "  <tbody>\n",
       "    <tr>\n",
       "      <th>0</th>\n",
       "      <td>2018-03-27</td>\n",
       "      <td>11.57</td>\n",
       "      <td>11.7800</td>\n",
       "      <td>11.35</td>\n",
       "      <td>11.51</td>\n",
       "      <td>1369681.0</td>\n",
       "      <td>0.0</td>\n",
       "      <td>1.0</td>\n",
       "      <td>11.57</td>\n",
       "      <td>11.7800</td>\n",
       "      <td>11.35</td>\n",
       "      <td>11.51</td>\n",
       "      <td>1369681.0</td>\n",
       "      <td>DDD</td>\n",
       "    </tr>\n",
       "    <tr>\n",
       "      <th>1</th>\n",
       "      <td>2018-03-26</td>\n",
       "      <td>11.66</td>\n",
       "      <td>11.8200</td>\n",
       "      <td>11.29</td>\n",
       "      <td>11.57</td>\n",
       "      <td>1731235.0</td>\n",
       "      <td>0.0</td>\n",
       "      <td>1.0</td>\n",
       "      <td>11.66</td>\n",
       "      <td>11.8200</td>\n",
       "      <td>11.29</td>\n",
       "      <td>11.57</td>\n",
       "      <td>1731235.0</td>\n",
       "      <td>DDD</td>\n",
       "    </tr>\n",
       "    <tr>\n",
       "      <th>2</th>\n",
       "      <td>2018-03-23</td>\n",
       "      <td>11.62</td>\n",
       "      <td>11.8000</td>\n",
       "      <td>11.31</td>\n",
       "      <td>11.43</td>\n",
       "      <td>2001250.0</td>\n",
       "      <td>0.0</td>\n",
       "      <td>1.0</td>\n",
       "      <td>11.62</td>\n",
       "      <td>11.8000</td>\n",
       "      <td>11.31</td>\n",
       "      <td>11.43</td>\n",
       "      <td>2001250.0</td>\n",
       "      <td>DDD</td>\n",
       "    </tr>\n",
       "    <tr>\n",
       "      <th>3</th>\n",
       "      <td>2018-03-22</td>\n",
       "      <td>11.80</td>\n",
       "      <td>12.0100</td>\n",
       "      <td>11.61</td>\n",
       "      <td>11.65</td>\n",
       "      <td>1544751.0</td>\n",
       "      <td>0.0</td>\n",
       "      <td>1.0</td>\n",
       "      <td>11.80</td>\n",
       "      <td>12.0100</td>\n",
       "      <td>11.61</td>\n",
       "      <td>11.65</td>\n",
       "      <td>1544751.0</td>\n",
       "      <td>DDD</td>\n",
       "    </tr>\n",
       "    <tr>\n",
       "      <th>4</th>\n",
       "      <td>2018-03-21</td>\n",
       "      <td>11.99</td>\n",
       "      <td>12.2500</td>\n",
       "      <td>11.86</td>\n",
       "      <td>12.00</td>\n",
       "      <td>1814216.0</td>\n",
       "      <td>0.0</td>\n",
       "      <td>1.0</td>\n",
       "      <td>11.99</td>\n",
       "      <td>12.2500</td>\n",
       "      <td>11.86</td>\n",
       "      <td>12.00</td>\n",
       "      <td>1814216.0</td>\n",
       "      <td>DDD</td>\n",
       "    </tr>\n",
       "    <tr>\n",
       "      <th>5</th>\n",
       "      <td>2018-03-20</td>\n",
       "      <td>12.03</td>\n",
       "      <td>12.2600</td>\n",
       "      <td>11.83</td>\n",
       "      <td>12.05</td>\n",
       "      <td>1271050.0</td>\n",
       "      <td>0.0</td>\n",
       "      <td>1.0</td>\n",
       "      <td>12.03</td>\n",
       "      <td>12.2600</td>\n",
       "      <td>11.83</td>\n",
       "      <td>12.05</td>\n",
       "      <td>1271050.0</td>\n",
       "      <td>DDD</td>\n",
       "    </tr>\n",
       "    <tr>\n",
       "      <th>6</th>\n",
       "      <td>2018-03-19</td>\n",
       "      <td>12.28</td>\n",
       "      <td>12.5700</td>\n",
       "      <td>11.79</td>\n",
       "      <td>12.06</td>\n",
       "      <td>2692517.0</td>\n",
       "      <td>0.0</td>\n",
       "      <td>1.0</td>\n",
       "      <td>12.28</td>\n",
       "      <td>12.5700</td>\n",
       "      <td>11.79</td>\n",
       "      <td>12.06</td>\n",
       "      <td>2692517.0</td>\n",
       "      <td>DDD</td>\n",
       "    </tr>\n",
       "    <tr>\n",
       "      <th>7</th>\n",
       "      <td>2018-03-16</td>\n",
       "      <td>12.98</td>\n",
       "      <td>13.1000</td>\n",
       "      <td>12.40</td>\n",
       "      <td>12.40</td>\n",
       "      <td>4533798.0</td>\n",
       "      <td>0.0</td>\n",
       "      <td>1.0</td>\n",
       "      <td>12.98</td>\n",
       "      <td>13.1000</td>\n",
       "      <td>12.40</td>\n",
       "      <td>12.40</td>\n",
       "      <td>4533798.0</td>\n",
       "      <td>DDD</td>\n",
       "    </tr>\n",
       "    <tr>\n",
       "      <th>8</th>\n",
       "      <td>2018-03-15</td>\n",
       "      <td>13.00</td>\n",
       "      <td>13.6999</td>\n",
       "      <td>12.75</td>\n",
       "      <td>12.86</td>\n",
       "      <td>8124538.0</td>\n",
       "      <td>0.0</td>\n",
       "      <td>1.0</td>\n",
       "      <td>13.00</td>\n",
       "      <td>13.6999</td>\n",
       "      <td>12.75</td>\n",
       "      <td>12.86</td>\n",
       "      <td>8124538.0</td>\n",
       "      <td>DDD</td>\n",
       "    </tr>\n",
       "    <tr>\n",
       "      <th>9</th>\n",
       "      <td>2018-03-14</td>\n",
       "      <td>12.03</td>\n",
       "      <td>12.5300</td>\n",
       "      <td>11.94</td>\n",
       "      <td>12.15</td>\n",
       "      <td>3855635.0</td>\n",
       "      <td>0.0</td>\n",
       "      <td>1.0</td>\n",
       "      <td>12.03</td>\n",
       "      <td>12.5300</td>\n",
       "      <td>11.94</td>\n",
       "      <td>12.15</td>\n",
       "      <td>3855635.0</td>\n",
       "      <td>DDD</td>\n",
       "    </tr>\n",
       "  </tbody>\n",
       "</table>\n",
       "</div>"
      ],
      "text/plain": [
       "        Date   Open     High    Low  Close     Volume  Ex-Dividend  \\\n",
       "0 2018-03-27  11.57  11.7800  11.35  11.51  1369681.0          0.0   \n",
       "1 2018-03-26  11.66  11.8200  11.29  11.57  1731235.0          0.0   \n",
       "2 2018-03-23  11.62  11.8000  11.31  11.43  2001250.0          0.0   \n",
       "3 2018-03-22  11.80  12.0100  11.61  11.65  1544751.0          0.0   \n",
       "4 2018-03-21  11.99  12.2500  11.86  12.00  1814216.0          0.0   \n",
       "5 2018-03-20  12.03  12.2600  11.83  12.05  1271050.0          0.0   \n",
       "6 2018-03-19  12.28  12.5700  11.79  12.06  2692517.0          0.0   \n",
       "7 2018-03-16  12.98  13.1000  12.40  12.40  4533798.0          0.0   \n",
       "8 2018-03-15  13.00  13.6999  12.75  12.86  8124538.0          0.0   \n",
       "9 2018-03-14  12.03  12.5300  11.94  12.15  3855635.0          0.0   \n",
       "\n",
       "   Split Ratio  Adj. Open  Adj. High  Adj. Low  Adj. Close  Adj. Volume Ticker  \n",
       "0          1.0      11.57    11.7800     11.35       11.51    1369681.0    DDD  \n",
       "1          1.0      11.66    11.8200     11.29       11.57    1731235.0    DDD  \n",
       "2          1.0      11.62    11.8000     11.31       11.43    2001250.0    DDD  \n",
       "3          1.0      11.80    12.0100     11.61       11.65    1544751.0    DDD  \n",
       "4          1.0      11.99    12.2500     11.86       12.00    1814216.0    DDD  \n",
       "5          1.0      12.03    12.2600     11.83       12.05    1271050.0    DDD  \n",
       "6          1.0      12.28    12.5700     11.79       12.06    2692517.0    DDD  \n",
       "7          1.0      12.98    13.1000     12.40       12.40    4533798.0    DDD  \n",
       "8          1.0      13.00    13.6999     12.75       12.86    8124538.0    DDD  \n",
       "9          1.0      12.03    12.5300     11.94       12.15    3855635.0    DDD  "
      ]
     },
     "execution_count": 121,
     "metadata": {},
     "output_type": "execute_result"
    }
   ],
   "source": [
    "stocks_daily_df = pd.read_sql_query(\"SELECT * FROM stocks_daily\",connection)\n",
    "stocks_daily_df[:10]"
   ]
  },
  {
   "cell_type": "code",
   "execution_count": 125,
   "metadata": {
    "collapsed": true
   },
   "outputs": [],
   "source": [
    "stocks_daily_df.index = pd.to_datetime(stocks_daily_df['Date'])"
   ]
  },
  {
   "cell_type": "code",
   "execution_count": 128,
   "metadata": {},
   "outputs": [
    {
     "data": {
      "image/png": "[encoded data removed]",
      "text/plain": [
       "<Figure size 792x576 with 1 Axes>"
      ]
     },
     "metadata": {},
     "output_type": "display_data"
    },
    {
     "data": {
      "text/plain": [
       "<ggplot: (316008873)>"
      ]
     },
     "execution_count": 128,
     "metadata": {},
     "output_type": "execute_result"
    }
   ],
   "source": [
    "from ggplot import *\n",
    "ggplot(aes(x='Date', y='Close', color='Ticker'), data=stocks_daily_df) + geom_line()"
   ]
  }
 ],
 "metadata": {
  "kernelspec": {
   "display_name": "Python (requests36)",
   "language": "python",
   "name": "requests36"
  },
  "language_info": {
   "codemirror_mode": {
    "name": "ipython",
    "version": 3
   },
   "file_extension": ".py",
   "mimetype": "text/x-python",
   "name": "python",
   "nbconvert_exporter": "python",
   "pygments_lexer": "ipython3",
   "version": "3.6.4"
  }
 },
 "nbformat": 4,
 "nbformat_minor": 2
}
