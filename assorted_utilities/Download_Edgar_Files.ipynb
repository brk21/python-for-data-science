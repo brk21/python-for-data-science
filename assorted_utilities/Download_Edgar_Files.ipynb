{
 "cells": [
  {
   "cell_type": "code",
   "execution_count": 14,
   "metadata": {},
   "outputs": [],
   "source": [
    "import requests\n",
    "import pandas as pd\n",
    "import numpy as np\n",
    "from requests_html import HTMLSession\n",
    "import subprocess\n",
    "import requests\n",
    "from google.cloud import storage\n",
    "import os\n",
    "\n",
    "session = HTMLSession()\n",
    "\n",
    "# response = session.get('https://www.sec.gov/Archives/edgar/Oldloads/')\n",
    "\n",
    "old_load_folders = ['https://www.sec.gov/Archives/edgar/Oldloads/1996/',\n",
    " 'https://www.sec.gov/Archives/edgar/Oldloads/1997/',\n",
    " 'https://www.sec.gov/Archives/edgar/Oldloads/1998/',\n",
    " 'https://www.sec.gov/Archives/edgar/Oldloads/1999/',\n",
    " 'https://www.sec.gov/Archives/edgar/Oldloads/2000/',\n",
    " 'https://www.sec.gov/Archives/edgar/Oldloads/2001/',\n",
    " 'https://www.sec.gov/Archives/edgar/Oldloads/2002/',\n",
    " 'https://www.sec.gov/Archives/edgar/Oldloads/2003/',\n",
    " 'https://www.sec.gov/Archives/edgar/Oldloads/2004/',\n",
    " 'https://www.sec.gov/Archives/edgar/Oldloads/2005/',\n",
    " 'https://www.sec.gov/Archives/edgar/Oldloads/2006/',\n",
    " 'https://www.sec.gov/Archives/edgar/Oldloads/2007/',\n",
    " 'https://www.sec.gov/Archives/edgar/Oldloads/2008/',\n",
    " 'https://www.sec.gov/Archives/edgar/Oldloads/2009/',\n",
    " 'https://www.sec.gov/Archives/edgar/Oldloads/2010/',\n",
    " 'https://www.sec.gov/Archives/edgar/Oldloads/2011/',\n",
    " 'https://www.sec.gov/Archives/edgar/Oldloads/2012/',\n",
    " 'https://www.sec.gov/Archives/edgar/Oldloads/2013/',\n",
    " 'https://www.sec.gov/Archives/edgar/Oldloads/2014/',\n",
    " 'https://www.sec.gov/Archives/edgar/Oldloads/2015/',\n",
    " 'https://www.sec.gov/Archives/edgar/Oldloads/2016/',\n",
    " 'https://www.sec.gov/Archives/edgar/Oldloads/2017/',\n",
    " 'https://www.sec.gov/Archives/edgar/Oldloads/2018/']\n",
    "\n",
    "quarters = ['QTR1/','QTR2/','QTR3/','QTR4/']\n",
    "\n",
    "# r = session.get(old_load_folders[0]+quarters[0])\n",
    "\n",
    "client=storage.Client()\n",
    "bucket_name= \"nonprofit-search\"\n",
    "# The \"folder\" where the files upload\n",
    "bucket_folder='edgar-gz/'\n",
    "# local_directory = os.path.dirname(os.path.realpath(__file__))\n",
    "local_directory = os.getcwd()+'/'\n",
    "for folder in old_load_folders:\n",
    "    for quarter in quarters:\n",
    "        r = session.get(folder+quarter)\n",
    "        for link in list(r.html.absolute_links):\n",
    "            if link.endswith('.gz'):\n",
    "                filename = link.split(\"/\")[-1]\n",
    "                with open(filename, \"wb\") as f:\n",
    "                    req = requests.get(link)\n",
    "                    f.write(req.content)\n",
    "                bucket=client.get_bucket(bucket_name)\n",
    "                blob = bucket.blob(bucket_folder + filename)\n",
    "                blob.upload_from_filename(local_directory+filename)\n",
    "                print(local_directory+filename,' uploaded')\n",
    "                os.remove(local_directory+filename)\n",
    "                print(local_directory+filename,' removed')"
   ]
  },
  {
   "cell_type": "code",
   "execution_count": 18,
   "metadata": {},
   "outputs": [],
   "source": [
    "# local_directory"
   ]
  }
 ],
 "metadata": {
  "kernelspec": {
   "display_name": "Python (requests36)",
   "language": "python",
   "name": "requests36"
  },
  "language_info": {
   "codemirror_mode": {
    "name": "ipython",
    "version": 3
   },
   "file_extension": ".py",
   "mimetype": "text/x-python",
   "name": "python",
   "nbconvert_exporter": "python",
   "pygments_lexer": "ipython3",
   "version": "3.6.4"
  }
 },
 "nbformat": 4,
 "nbformat_minor": 2
}
