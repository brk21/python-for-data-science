{
 "cells": [
  {
   "cell_type": "code",
   "execution_count": 3,
   "metadata": {
    "collapsed": true
   },
   "outputs": [],
   "source": [
    "import pandas as pd\n",
    "import os"
   ]
  },
  {
   "cell_type": "code",
   "execution_count": 4,
   "metadata": {
    "collapsed": true
   },
   "outputs": [],
   "source": [
    "directory_in_str = '/Users/brosskatz/Downloads/directory'\n",
    "\n",
    "directory = os.fsencode(directory_in_str)\n",
    "appended_data = []\n",
    "\n",
    "for file in os.listdir(directory):\n",
    "    filename = os.fsdecode(file)\n",
    "    if filename.endswith(\".csv\") and 'deduplicated' in filename: \n",
    "        try:\n",
    "            df = pd.read_csv(directory_in_str+'/'+filename,)\n",
    "            appended_data.append(df)\n",
    "            continue\n",
    "        except Exception as ex:\n",
    "            print(ex)\n",
    "            continue\n",
    "    else:\n",
    "        continue\n",
    "        \n",
    "appended_data_df = pd.concat(appended_data, axis=0)\n",
    "\n",
    "# appended_data_df[appended_data_df['firstname'] == 'Delpha']"
   ]
  },
  {
   "cell_type": "code",
   "execution_count": 26,
   "metadata": {},
   "outputs": [],
   "source": [
    "# appended_data_df.columns\n",
    "\n",
    "# len(list(appended_data_df['firstname'].unique()))\n",
    "# len(appended_data_df)"
   ]
  }
 ],
 "metadata": {
  "kernelspec": {
   "display_name": "Python 3.6 (data_science1)",
   "language": "python",
   "name": "data_science1"
  },
  "language_info": {
   "codemirror_mode": {
    "name": "ipython",
    "version": 3
   },
   "file_extension": ".py",
   "mimetype": "text/x-python",
   "name": "python",
   "nbconvert_exporter": "python",
   "pygments_lexer": "ipython3",
   "version": "3.6.6"
  }
 },
 "nbformat": 4,
 "nbformat_minor": 2
}
